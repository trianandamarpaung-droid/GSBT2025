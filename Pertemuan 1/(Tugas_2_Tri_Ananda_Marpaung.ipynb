{
  "cells": [
    {
      "cell_type": "markdown",
      "metadata": {
        "id": "fQjXfMWTFXhh"
      },
      "source": [
        "# Overview Materi\n",
        "\n",
        "Source: https://www.youtube.com/watch?v=LDRbO9a6XPU"
      ]
    },
    {
      "cell_type": "markdown",
      "metadata": {
        "id": "UH5otNgmFY4r"
      },
      "source": [
        "Jelaskan secara singkat apa itu decision tree menurut pemahamanmu!"
      ]
    },
    {
      "cell_type": "markdown",
      "metadata": {
        "id": "DodQZMBvP-4F"
      },
      "source": []
    },
    {
      "cell_type": "markdown",
      "metadata": {
        "id": "yR_dxhoaIGZY"
      },
      "source": [
        "# Import Data & Libraries"
      ]
    },
    {
      "cell_type": "code",
      "execution_count": null,
      "metadata": {
        "id": "E3fobMaeFOAe"
      },
      "outputs": [],
      "source": [
        "from __future__ import print_function\n",
        "\n",
        "# label kolom\n",
        "header = [\"color\", \"diameter\", \"label\"]\n",
        "\n",
        "# data training\n",
        "training_data = [\n",
        "    ['Green', 3, 'Apple'],\n",
        "    ['Yellow', 3, 'Apple'],\n",
        "    ['Red', 1, 'Grape'],\n",
        "    ['Red', 1, 'Grape'],\n",
        "    ['Yellow', 3, 'Lemon'],]\n",
        "\n",
        "# data testing\n",
        "testing_data = [\n",
        "    ['Green', 3, 'Apple'],\n",
        "    ['Yellow', 4, 'Apple'],\n",
        "    ['Red', 2, 'Grape'],\n",
        "    ['Red', 1, 'Grape'],\n",
        "    ['Yellow', 3, 'Lemon'],]"
      ]
    },
    {
      "cell_type": "markdown",
      "metadata": {
        "id": "YMsTb3E1MWY6"
      },
      "source": [
        "# Fungsi Dasar"
      ]
    },
    {
      "cell_type": "code",
      "execution_count": null,
      "metadata": {
        "id": "Bgzx5gwhSTWp",
        "colab": {
          "base_uri": "https://localhost:8080/"
        },
        "outputId": "f6ad7280-5829-4a13-fa81-25aca9a7ac8a"
      },
      "outputs": [
        {
          "output_type": "stream",
          "name": "stdout",
          "text": [
            "{'Green', 'Red', 'Yellow'}\n",
            "{1, 3}\n",
            "{'Grape', 'Lemon', 'Apple'}\n"
          ]
        }
      ],
      "source": [
        "# fungsi mencari apa saja unique value dari suatu kolom\n",
        "def unique_vals(rows, col):\n",
        "  return set([row[col]for row in rows])\n",
        "# contoh penggunaan\n",
        "print(unique_vals(training_data, 0))\n",
        "print(unique_vals(training_data, 1))\n",
        "print(unique_vals(training_data, 2))"
      ]
    },
    {
      "cell_type": "code",
      "execution_count": null,
      "metadata": {
        "id": "hhF6uUhrJesN",
        "colab": {
          "base_uri": "https://localhost:8080/"
        },
        "outputId": "68256d4f-3c76-44aa-a83e-0d266f6e4565"
      },
      "outputs": [
        {
          "output_type": "stream",
          "name": "stdout",
          "text": [
            "{'Apple': 2, 'Grape': 2, 'Lemon': 1}\n"
          ]
        }
      ],
      "source": [
        "# fungsi Menghitung jumlah unique value dari suatu kolom\n",
        "def class_counts(rows):\n",
        "\n",
        "    counts = {}\n",
        "    for row in rows:\n",
        "        label = row[-1]\n",
        "        if label not in counts:\n",
        "            counts[label] = 0\n",
        "        counts[label] += 1\n",
        "    return counts\n",
        "# contoh penggunaan\n",
        "print(class_counts(training_data))"
      ]
    },
    {
      "cell_type": "code",
      "execution_count": null,
      "metadata": {
        "id": "U9mxqVcnI9vw",
        "colab": {
          "base_uri": "https://localhost:8080/"
        },
        "outputId": "d0d05e7b-bf08-450a-8773-b337185d4535"
      },
      "outputs": [
        {
          "output_type": "stream",
          "name": "stdout",
          "text": [
            "True\n",
            "False\n"
          ]
        }
      ],
      "source": [
        "# fungsi pengecekan suatu value numerik atau bukan\n",
        "def is_numeric(value):\n",
        "     return isinstance(value, int) or isinstance(value, float)\n",
        "#\n",
        "\n",
        "# contoh penggunaan\n",
        "print(is_numeric(7))\n",
        "print(is_numeric(\"Red\"))"
      ]
    },
    {
      "cell_type": "code",
      "execution_count": null,
      "metadata": {
        "id": "MekftmdeLPRo",
        "colab": {
          "base_uri": "https://localhost:8080/"
        },
        "outputId": "a87cb817-469c-4058-c4b2-9d3ae8e8b051"
      },
      "outputs": [
        {
          "output_type": "execute_result",
          "data": {
            "text/plain": [
              "Is color == Green?"
            ]
          },
          "metadata": {},
          "execution_count": 7
        }
      ],
      "source": [
        "# kelas untuk merepresentasikan pertanyaan pada decision tree\n",
        "class Question:\n",
        "\n",
        "    # inisialisasi kolom dan nilai pertanyaan\n",
        "    def __init__(self, column, value):\n",
        "        self.column = column\n",
        "        self.value = value\n",
        "\n",
        "    # mengecek apakah nilai pada baris sesuai dengan pertanyaan\n",
        "\n",
        "\n",
        "    # mengecek apakah contoh data sesuai dengan pertanyaan\n",
        "    def match(self, example):\n",
        "        val = example[self.column]\n",
        "        if is_numeric(val):\n",
        "            return val >= self.value\n",
        "        else:\n",
        "            return val == self.value\n",
        "\n",
        "    # menampilkan pertanyaan dalam format string yang mudah dibaca\n",
        "    def __repr__(self):\n",
        "        condition = \"==\"\n",
        "        if is_numeric(self.value):\n",
        "            condition = \">=\"\n",
        "        return \"Is %s %s %s?\" % (\n",
        "            header[self.column], condition, str(self.value))\n",
        "#\n",
        "\n",
        "# contoh penggunaan 1\n",
        "Question(1, 3)\n",
        "\n",
        "# contoh penggunaan 2\n",
        "q = Question(0, 'Green')\n",
        "q"
      ]
    },
    {
      "cell_type": "code",
      "execution_count": null,
      "metadata": {
        "id": "Y3lTf9NbL8Ik",
        "colab": {
          "base_uri": "https://localhost:8080/"
        },
        "outputId": "b4e9c7ea-5fb8-4b3c-b82e-550a51887bb4"
      },
      "outputs": [
        {
          "output_type": "stream",
          "name": "stdout",
          "text": [
            "[['Red', 1, 'Grape'], ['Red', 1, 'Grape']]\n",
            "[['Green', 3, 'Apple'], ['Yellow', 3, 'Apple'], ['Yellow', 3, 'Lemon']]\n"
          ]
        }
      ],
      "source": [
        "# membagi dataset menjadi dua berdasarkan pertanyaan\n",
        "def partition(rows, question):\n",
        "    true_rows, false_rows = [], []\n",
        "    for row in rows:\n",
        "        if question.match(row):\n",
        "            true_rows.append(row)\n",
        "        else:\n",
        "            false_rows.append(row)\n",
        "    return true_rows, false_rows\n",
        "\n",
        "# contoh penggunaan\n",
        "true_rows, false_rows = partition(training_data, Question(0, 'Red'))\n",
        "print(true_rows)\n",
        "print(false_rows)"
      ]
    },
    {
      "cell_type": "markdown",
      "metadata": {
        "id": "X4D5BkyeMdSG"
      },
      "source": [
        "**apa itu gini impurity?**\n",
        "<br> gini impurity berfungsi mengukur tingkat ketidakmurnian atau ketidakteraturan pada sebuah simpul (node) dalam pohon"
      ]
    },
    {
      "cell_type": "code",
      "execution_count": null,
      "metadata": {
        "id": "DmAnmSzFMKtA",
        "colab": {
          "base_uri": "https://localhost:8080/"
        },
        "outputId": "698c85c1-04a8-4817-aef1-02cd2720536b"
      },
      "outputs": [
        {
          "output_type": "stream",
          "name": "stdout",
          "text": [
            "0.6399999999999999\n"
          ]
        }
      ],
      "source": [
        "# menghitung nilai Gini Impurity untuk sebuah dataset\n",
        "def gini(rows):\n",
        "    counts = class_counts(rows)\n",
        "    impurity = 1\n",
        "    for lbl in counts:\n",
        "        prob_of_lbl = counts[lbl] / float(len(rows))\n",
        "        impurity -= prob_of_lbl**2\n",
        "    return impurity\n",
        "\n",
        "\n",
        "\n",
        "# contoh penggunaan\n",
        "print(gini(training_data))\n",
        "\n"
      ]
    },
    {
      "cell_type": "markdown",
      "metadata": {
        "id": "SyxWlLNOM_2U"
      },
      "source": [
        "**apa itu information gain?**\n",
        "<br> information gain berfungsi mengukur seberapa efektif sebuah fitur dalam memisahkan data berdasarkan kelas-kelasnya"
      ]
    },
    {
      "cell_type": "code",
      "execution_count": null,
      "metadata": {
        "id": "rObVucEEMiIZ",
        "colab": {
          "base_uri": "https://localhost:8080/"
        },
        "outputId": "ccd75f26-fb0b-4f3d-cf15-bad4d7e52e0e"
      },
      "outputs": [
        {
          "output_type": "execute_result",
          "data": {
            "text/plain": [
              "0.1399999999999999"
            ]
          },
          "metadata": {},
          "execution_count": 13
        }
      ],
      "source": [
        "# menghitung nilai Information Gain dari pemisahan dataset\n",
        "def info_gain(left, right, current_uncertainty):\n",
        "    p = float(len(left)) / (len(left) + len(right))\n",
        "    return current_uncertainty - p * gini(left) - (1 - p) * gini(right)\n",
        "\n",
        "# contoh penggunaan\n",
        "current_uncertainty = gini(training_data)\n",
        "true_rows, false_rows = partition(training_data, Question(0, 'Green'))\n",
        "info_gain(true_rows, false_rows, current_uncertainty)"
      ]
    },
    {
      "cell_type": "code",
      "execution_count": 30,
      "metadata": {
        "id": "OK8Lc7koOIyS",
        "colab": {
          "base_uri": "https://localhost:8080/",
          "height": 211
        },
        "outputId": "9ba71766-a7f5-4097-f315-a5e89f6d0c3d"
      },
      "outputs": [
        {
          "output_type": "error",
          "ename": "NameError",
          "evalue": "name 'training_data' is not defined",
          "traceback": [
            "\u001b[0;31m---------------------------------------------------------------------------\u001b[0m",
            "\u001b[0;31mNameError\u001b[0m                                 Traceback (most recent call last)",
            "\u001b[0;32m/tmp/ipython-input-1195509367.py\u001b[0m in \u001b[0;36m<cell line: 0>\u001b[0;34m()\u001b[0m\n\u001b[1;32m     38\u001b[0m \u001b[0;34m\u001b[0m\u001b[0m\n\u001b[1;32m     39\u001b[0m \u001b[0;31m# contoh penggunaan\u001b[0m\u001b[0;34m\u001b[0m\u001b[0;34m\u001b[0m\u001b[0m\n\u001b[0;32m---> 40\u001b[0;31m \u001b[0mbest_gain\u001b[0m\u001b[0;34m,\u001b[0m \u001b[0mbest_question\u001b[0m \u001b[0;34m=\u001b[0m \u001b[0mfind_best_split\u001b[0m\u001b[0;34m(\u001b[0m\u001b[0mtraining_data\u001b[0m\u001b[0;34m)\u001b[0m\u001b[0;34m\u001b[0m\u001b[0;34m\u001b[0m\u001b[0m\n\u001b[0m\u001b[1;32m     41\u001b[0m \u001b[0mprint\u001b[0m\u001b[0;34m(\u001b[0m\u001b[0mbest_gain\u001b[0m\u001b[0;34m)\u001b[0m\u001b[0;34m\u001b[0m\u001b[0;34m\u001b[0m\u001b[0m\n\u001b[1;32m     42\u001b[0m \u001b[0mprint\u001b[0m\u001b[0;34m(\u001b[0m\u001b[0mbest_question\u001b[0m\u001b[0;34m)\u001b[0m\u001b[0;34m\u001b[0m\u001b[0;34m\u001b[0m\u001b[0m\n",
            "\u001b[0;31mNameError\u001b[0m: name 'training_data' is not defined"
          ]
        }
      ],
      "source": [
        "\n",
        "def find_best_split(rows):\n",
        "    best_gain = 0\n",
        "    best_question = None\n",
        "    current_uncertainty = gini(rows)\n",
        "    n_features = len(rows[0]) - 1\n",
        "\n",
        "    # splitting the dataset\n",
        "    def partition(rows, question):\n",
        "        true_rows, false_rows = [], []\n",
        "        for row in rows:\n",
        "            if question.match(row):\n",
        "                true_rows.append(row)\n",
        "            else:\n",
        "                false_rows.append(row)\n",
        "        return true_rows, false_rows\n",
        "\n",
        "    for col in range(n_features):\n",
        "        values = set([row[col] for row in rows])\n",
        "\n",
        "        for val in values:\n",
        "            question = Question(col, val)\n",
        "\n",
        "            # divide the dataset\n",
        "            true_rows, false_rows = partition(rows, question)\n",
        "\n",
        "            # Skip this split if it doesn't divide the dataset\n",
        "            if len(true_rows) == 0 or len(false_rows) == 0:\n",
        "                continue\n",
        "\n",
        "            # calculate the information gain from this split\n",
        "            gain = info_gain(true_rows, false_rows, current_uncertainty)\n",
        "\n",
        "            if gain >= best_gain:\n",
        "                best_gain, best_question = gain, question\n",
        "\n",
        "                # return the best information gain and the corresponding question\n",
        "    return best_gain, best_question\n",
        "\n",
        "# contoh penggunaan\n",
        "best_gain, best_question = find_best_split(training_data)\n",
        "print(best_gain)\n",
        "print(best_question)\n",
        "\n",
        "\n",
        "\n",
        "\n"
      ]
    },
    {
      "cell_type": "markdown",
      "metadata": {
        "id": "t225xaaIPGow"
      },
      "source": [
        "# Fungsi Decision Tree"
      ]
    },
    {
      "cell_type": "code",
      "execution_count": 5,
      "metadata": {
        "id": "3KXNVwMPOZ5c"
      },
      "outputs": [],
      "source": [
        "# merepresentasikan node daun (leaf) pada decision tree yang berisi hasil prediksi\n",
        "class Leaf:\n",
        "\n",
        "    # inisialisasi leaf dengan menghitung jumlah kemunculan tiap kelas\n",
        "    def __init__(self, rows):\n",
        "      self.predictions = class_counts(rows)\n",
        "\n",
        ""
      ]
    },
    {
      "cell_type": "code",
      "execution_count": 11,
      "metadata": {
        "id": "gktUwUY-P-eN"
      },
      "outputs": [],
      "source": [
        "# merepresentasikan node keputusan (decision node) yang berisi pertanyaan dan cabang\n",
        "class Decision_Node:\n",
        "\n",
        "    # inisialisasi node dengan pertanyaan, cabang benar, dan cabang salah\n",
        "    def __init__(self,\n",
        "                 question,\n",
        "                 true_branch,\n",
        "                 false_branch):\n",
        "        ...\n"
      ]
    },
    {
      "cell_type": "code",
      "execution_count": 6,
      "metadata": {
        "id": "_cWHvsMKPPsk"
      },
      "outputs": [],
      "source": [
        "# membangun decision tree secara rekursif\n",
        "def build_tree(rows):\n",
        "    ...\n",
        "    return Decision_Node(question, true_branch, false_branch)"
      ]
    },
    {
      "cell_type": "code",
      "execution_count": 29,
      "metadata": {
        "id": "tx_AbjiYPS05",
        "colab": {
          "base_uri": "https://localhost:8080/",
          "height": 106
        },
        "outputId": "8d3ba6df-3fd7-47fe-d674-7f1f5e91bdfe"
      },
      "outputs": [
        {
          "output_type": "error",
          "ename": "SyntaxError",
          "evalue": "unterminated string literal (detected at line 18) (ipython-input-282842461.py, line 18)",
          "traceback": [
            "\u001b[0;36m  File \u001b[0;32m\"/tmp/ipython-input-282842461.py\"\u001b[0;36m, line \u001b[0;32m18\u001b[0m\n\u001b[0;31m    print_tree(node.false_branch, spacing + \"  \") \"\u001b[0m\n\u001b[0m                                                  ^\u001b[0m\n\u001b[0;31mSyntaxError\u001b[0m\u001b[0;31m:\u001b[0m unterminated string literal (detected at line 18)\n"
          ]
        }
      ],
      "source": [
        "# mencetak struktur decision tree secara rekursif dalam format teks\n",
        "def print_tree(node, spacing=\"\"):\n",
        "\n",
        "    # base case: jika sudah mencapai leaf\n",
        "    if isinstance(node, Leaf):\n",
        "        print(spacing + \"Prediksi:\", node.predictions)\n",
        "        return\n",
        "\n",
        "    # mencetak pertanyaan pada node saat ini\n",
        "    print(spacing + str(node.question))\n",
        "\n",
        "    # mencetak cabang true secara rekursif\n",
        "    print(spacing + '--> True:')\n",
        "    print_tree(node.true_branch, spacing + \"  \")\n",
        "\n",
        "    # mencetak cabang false secara rekursif\n",
        "    print(spacing + '--> False:')\n",
        "    print_tree(node.false_branch, spacing + \"  \") \"\n",
        "\n",
        "# contoh penggunaan\n",
        "my_tree = build_tree(training_data)\n",
        "print_tree(my_tree)"
      ]
    },
    {
      "cell_type": "code",
      "execution_count": 31,
      "metadata": {
        "id": "tchvhQc-PVC2"
      },
      "outputs": [],
      "source": [
        "# mengklasifikasikan satu baris data menggunakan decision tree\n",
        "def classify(row, node):\n",
        "\n",
        "    # base case: jika sudah mencapai leaf\n",
        "    if isinstance(node, Leaf):\n",
        "        return node.predictions\n",
        "\n",
        "    # menentukan apakah mengikuti cabang true atau cabang false\n",
        "    # dengan membandingkan nilai fitur pada baris dengan pertanyaan di node\n",
        "    if node.question.match(row):\n",
        "        return classify(row, node.true_branch)\n",
        "    else:\n",
        "        return classify(row, node.false_branch)\n",
        "\n",
        "\n",
        "# menghitung jumlah label dalam dataset\n",
        "def class_counts(rows):\n",
        "    counts = {}\n",
        "    for row in rows:\n",
        "        label = row[-1]  # label ada di kolom terakhir\n",
        "        if label not in counts:\n",
        "            counts[label] = 0\n",
        "        counts[label] += 1\n",
        "    return counts\n"
      ]
    },
    {
      "cell_type": "code",
      "execution_count": 12,
      "metadata": {
        "id": "w8r0lzWpQM7c"
      },
      "outputs": [],
      "source": [
        "# menampilkan prediksi pada leaf dalam format persentase\n",
        "def print_leaf(counts):\n",
        "    total = sum(counts.values()) * 1.0\n",
        "    probs = {}\n",
        "    for lbl in counts.keys():\n",
        "        probs[lbl] = str(int(counts[lbl] / total * 100)) + \"%\"\n",
        "    return probs\n",
        "\n",
        "# contoh penggunaan\n",
        "testing_data = [\n",
        "    ['Green', 3, 'Apple'],\n",
        "    ['Yellow', 4, 'Apple'],\n",
        "    ['Red', 2, 'Grape'],\n",
        "    ['Red', 1, 'Grape'],\n",
        "    ['Yellow', 3, 'Lemon'],\n",
        "]"
      ]
    },
    {
      "cell_type": "markdown",
      "metadata": {
        "id": "JLT1_TuuQWlI"
      },
      "source": [
        "# Predict Using Decision Tree"
      ]
    },
    {
      "cell_type": "code",
      "execution_count": 23,
      "metadata": {
        "id": "DhG5NCwHQSlF",
        "colab": {
          "base_uri": "https://localhost:8080/"
        },
        "outputId": "21afb54c-29f2-4fb8-ed97-319cc7018efa"
      },
      "outputs": [
        {
          "output_type": "stream",
          "name": "stdout",
          "text": [
            "Struktur Decision Tree:\n",
            "Apakah kolom[0] == Green?\n",
            "--> True:\n",
            "  Prediksi: {'Apple': 3}\n",
            "--> False:\n",
            "  Prediksi: {'Orange': 2}\n",
            "\n",
            "Prediksi Data Uji:\n",
            "Data: ['Green', 3, 'Apple'] => Prediksi: {'Apple': 3}\n",
            "Data: ['Yellow', 3, 'Orange'] => Prediksi: {'Orange': 2}\n",
            "Data: ['Green', 2, 'Apple'] => Prediksi: {'Apple': 3}\n"
          ]
        }
      ],
      "source": [
        "\n",
        "\n",
        "# ==============================\n",
        "\n",
        "# Leaf node (simpul akhir)\n",
        "class Leaf:\n",
        "    def __init__(self, predictions):\n",
        "        self.predictions = predictions  # dict berisi jumlah label\n",
        "\n",
        "# Decision node (simpul pertanyaan)\n",
        "class Decision_Node:\n",
        "    def __init__(self, question, true_branch, false_branch):\n",
        "        self.question = question\n",
        "        self.true_branch = true_branch\n",
        "        self.false_branch = false_branch\n",
        "\n",
        "# Pertanyaan (kondisi untuk split)\n",
        "class Question:\n",
        "    def __init__(self, column, value):\n",
        "        self.column = column\n",
        "        self.value = value\n",
        "\n",
        "    def match(self, row):\n",
        "        val = row[self.column]\n",
        "        return val == self.value  # untuk contoh sederhana pakai ==\n",
        "\n",
        "    def __repr__(self):\n",
        "        return f\"Apakah kolom[{self.column}] == {self.value}?\"\n",
        "\n",
        "\n",
        "def print_tree(node, spacing=\"\"):\n",
        "    if isinstance(node, Leaf):\n",
        "        print(spacing + \"Prediksi:\", node.predictions)\n",
        "        return\n",
        "\n",
        "    print(spacing + str(node.question))\n",
        "\n",
        "    print(spacing + '--> True:')\n",
        "    print_tree(node.true_branch, spacing + \"  \")\n",
        "\n",
        "    print(spacing + '--> False:')\n",
        "    print_tree(node.false_branch, spacing + \"  \")\n",
        "\n",
        "\n",
        "# Klasifikasi satu baris data\n",
        "def classify(row, node):\n",
        "    if isinstance(node, Leaf):\n",
        "        return node.predictions\n",
        "\n",
        "    if node.question.match(row):\n",
        "        return classify(row, node.true_branch)\n",
        "    else:\n",
        "        return classify(row, node.false_branch)\n",
        "\n",
        "\n",
        "# ==============================\n",
        "# 3. Contoh tree manual\n",
        "# ==============================\n",
        "\n",
        "# Leaf nodes\n",
        "leaf1 = Leaf({\"Apple\": 3})   # kalau kondisi True\n",
        "leaf2 = Leaf({\"Orange\": 2})  # kalau kondisi False\n",
        "\n",
        "# Root node dengan pertanyaan\n",
        "root = Decision_Node(\n",
        "    Question(0, \"Green\"),  # cek apakah kolom[0] == \"Green\"\n",
        "    leaf1,\n",
        "    leaf2\n",
        ")\n",
        "\n",
        "# ==============================\n",
        "# 4. Cetak struktur tree\n",
        "# ==============================\n",
        "print(\"Struktur Decision Tree:\")\n",
        "print_tree(root)\n",
        "\n",
        "# ==============================\n",
        "# 5. Uji dengan data baru\n",
        "# ==============================\n",
        "testing_data = [\n",
        "    [\"Green\", 3, \"Apple\"],\n",
        "    [\"Yellow\", 3, \"Orange\"],\n",
        "    [\"Green\", 2, \"Apple\"],\n",
        "]\n",
        "\n",
        "print(\"\\nPrediksi Data Uji:\")\n",
        "for row in testing_data:\n",
        "    prediction = classify(row, root)\n",
        "    print(\"Data:\", row, \"=> Prediksi:\", prediction)\n"
      ]
    }
  ],
  "metadata": {
    "colab": {
      "provenance": []
    },
    "kernelspec": {
      "display_name": "Python 3",
      "name": "python3"
    },
    "language_info": {
      "name": "python"
    }
  },
  "nbformat": 4,
  "nbformat_minor": 0
}