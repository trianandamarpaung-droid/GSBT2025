{
  "nbformat": 4,
  "nbformat_minor": 0,
  "metadata": {
    "colab": {
      "provenance": []
    },
    "kernelspec": {
      "name": "python3",
      "display_name": "Python 3"
    },
    "language_info": {
      "name": "python"
    }
  },
  "cells": [
    {
      "cell_type": "markdown",
      "source": [
        "# BayesianSearchCV\n",
        "\n",
        "1. Apa itu hyperparameter tuning?\n",
        "2. Jelaskan metode BayesSearchCV!\n",
        "3. Bagaimana cara kerja BayesSearchCV?\n",
        "4. Apa kelebihan BayesSearchCV dibandingkan metode hyperparameter tuning lainnya?\n",
        "\n"
      ],
      "metadata": {
        "id": "pjbXCL2nNB9N"
      }
    },
    {
      "cell_type": "code",
      "execution_count": 6,
      "metadata": {
        "id": "2o0dt8txGE1k"
      },
      "outputs": [],
      "source": [
        "# import library\n",
        "#!pip install scikit-optimize # install jika belum pernah install #"
      ]
    },
    {
      "cell_type": "code",
      "source": [
        "# Load Dataset\n",
        "from sklearn.datasets import load_iris\n",
        "iris = load_iris()\n",
        "X = iris.data\n",
        "y = iris.target\n",
        "\n"
      ],
      "metadata": {
        "id": "v7ENirBIHIYz"
      },
      "execution_count": 18,
      "outputs": []
    },
    {
      "cell_type": "code",
      "source": [
        "# Definisikan Model dan parameter yang akan dioptimasi (Ruang Hyperparameter)\n",
        "from sklearn.svm import SVC\n",
        "\n",
        "# Definisikan ruang hyperparameter\n",
        "search_spaces = {\n",
        "    'C': (1e-6, 1e+6, 'log-uniform'),\n",
        "    'gamma': (1e-6, 1e+1, 'log-uniform'),\n",
        "    'kernel': ['linear', 'rbf']\n",
        "}\n",
        "\n",
        "# Definisikan model\n",
        "model = SVC()"
      ],
      "metadata": {
        "id": "vmyqOLU1IO3T"
      },
      "execution_count": 17,
      "outputs": []
    },
    {
      "cell_type": "markdown",
      "source": [
        "# Fungsi Optimisasi Menggunakan BayesianSearchCV"
      ],
      "metadata": {
        "id": "Ip5U8cL4OLUP"
      }
    },
    {
      "cell_type": "code",
      "source": [
        "# Inisialisasi BayesSearchCV\n",
        "!pip sklearn.datasets import load_iris\n",
        "from sklearn.model_selection import train_test_split\n",
        "from sklearn.svm import SVC\n",
        "from skopt import BayesSearchCV\n",
        "\n",
        "opt = BayesSearchCV(\n",
        "    estimator=SVC(),\n",
        "    search_spaces=search_spaces,\n",
        "    n_iter=32,\n",
        "    cv=3,\n",
        "    n_jobs=-1,\n",
        "    random_state=0\n",
        ")\n"
      ],
      "metadata": {
        "id": "BC0k0vXKOBJk",
        "colab": {
          "base_uri": "https://localhost:8080/"
        },
        "outputId": "a6bca549-9cc8-48b9-d1dc-a666fb88e9df"
      },
      "execution_count": 13,
      "outputs": [
        {
          "output_type": "stream",
          "name": "stdout",
          "text": [
            "ERROR: unknown command \"sklearn.datasets\"\n"
          ]
        }
      ]
    },
    {
      "cell_type": "code",
      "source": [
        "# Jalankan optimisasi\n",
        "X, y = load_iris(return_X_y=True)\n",
        "X_train, X_test, y_train, y_test = train_test_split(X, y, train_size=0.75, random_state=0)\n",
        "\n",
        "# 2. Definisikan Ruang Hyperparameter\n",
        "search_spaces = {\n",
        "    'C': (1e-6, 1e+6, 'log-uniform'),\n",
        "    'gamma': (1e-6, 1e+1, 'log-uniform'),\n",
        "    'kernel': ['linear', 'rbf']\n",
        "}\n"
      ],
      "metadata": {
        "id": "EYoUwsYCOB5F"
      },
      "execution_count": 10,
      "outputs": []
    },
    {
      "cell_type": "code",
      "source": [
        "# Evaluasi Model\n",
        "print(\"Best Parameters:\", opt.best_params_)\n",
        "print(\"Best CV Score (mean):\", opt.best_score_)\n",
        "print(\"Test Accuracy:\", opt.score(X_test, y_test))"
      ],
      "metadata": {
        "id": "sox5OZx6OD0z",
        "colab": {
          "base_uri": "https://localhost:8080/"
        },
        "outputId": "fe348e4b-d726-4e9f-c722-712a0d4a881f"
      },
      "execution_count": 11,
      "outputs": [
        {
          "output_type": "stream",
          "name": "stdout",
          "text": [
            "Best Parameters: OrderedDict({'C': 0.5736224895212065, 'gamma': 10.0, 'kernel': 'linear'})\n",
            "Best CV Score (mean): 0.9729729729729729\n",
            "Test Accuracy: 0.9736842105263158\n"
          ]
        }
      ]
    }
  ]
}